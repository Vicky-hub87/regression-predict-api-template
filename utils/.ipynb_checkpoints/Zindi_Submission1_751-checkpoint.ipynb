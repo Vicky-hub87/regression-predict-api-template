{
 "cells": [
  {
   "cell_type": "code",
   "execution_count": null,
   "metadata": {},
   "outputs": [],
   "source": [
    "import numpy as np\n",
    "import pandas as pd\n",
    "\n",
    "from sklearn.metrics import mean_squared_error, mean_absolute_error, r2_score\n",
    "from sklearn.linear_model import LinearRegression, Ridge, Lasso, ElasticNet\n",
    "from sklearn.preprocessing import StandardScaler\n",
    "from sklearn.cluster import KMeans\n",
    "\n",
    "import datetime as dt\n",
    "import matplotlib.pyplot as plt # for plotting"
   ]
  },
  {
   "cell_type": "code",
   "execution_count": null,
   "metadata": {},
   "outputs": [],
   "source": [
    "Train = pd.read_csv('Train.csv')\n",
    "Test = pd.read_csv('Test.csv')\n",
    "Riders = pd.read_csv('Riders.csv')\n",
    "variables = pd.read_csv('VariableDefinitions.csv')"
   ]
  },
  {
   "cell_type": "code",
   "execution_count": null,
   "metadata": {},
   "outputs": [],
   "source": [
    "print(Train.shape)\n",
    "print(Test.shape)\n",
    "print(Riders.shape)"
   ]
  },
  {
   "cell_type": "code",
   "execution_count": null,
   "metadata": {},
   "outputs": [],
   "source": [
    "Y = Train[['Arrival at Destination - Day of Month','Arrival at Destination - Weekday (Mo = 1)','Arrival at Destination - Time',\n",
    "           'Time from Pickup to Arrival']]\n",
    "Train = Train.drop(['Arrival at Destination - Day of Month','Arrival at Destination - Weekday (Mo = 1)','Arrival at Destination - Time',\n",
    "           'Time from Pickup to Arrival'],axis = 1)\n",
    "Combine_Train_Test = pd.concat([Train, Test])\n",
    "Combine_Train_Test = Combine_Train_Test.drop(['Vehicle Type','Platform Type','Personal or Business','User Id','Rider Id','Order No'],axis = 1)\n",
    "print(Combine_Train_Test.shape)"
   ]
  },
  {
   "cell_type": "code",
   "execution_count": null,
   "metadata": {},
   "outputs": [],
   "source": [
    "# Total number of missing values in the Train_Riders data \n",
    "Missval_Train_Test = Combine_Train_Test.isnull().sum()\n",
    "print('The missing values is show below :', Missval_Train_Test)"
   ]
  },
  {
   "cell_type": "code",
   "execution_count": null,
   "metadata": {},
   "outputs": [],
   "source": [
    "# Times\n",
    "\n",
    "# Placement - Time\n",
    "# Confirmation - Time\n",
    "# Arrival at Pickup - Time\n",
    "# Pickup - Time"
   ]
  },
  {
   "cell_type": "code",
   "execution_count": null,
   "metadata": {},
   "outputs": [],
   "source": [
    "#### Convert Time to DateTime"
   ]
  },
  {
   "cell_type": "code",
   "execution_count": null,
   "metadata": {},
   "outputs": [],
   "source": [
    "Combine_Train_Test['Placement - Time'] = Combine_Train_Test['Placement - Time'].astype('datetime64')\n",
    "Combine_Train_Test['Confirmation - Time'] = Combine_Train_Test['Confirmation - Time'].astype('datetime64')\n",
    "Combine_Train_Test['Arrival at Pickup - Time'] = Combine_Train_Test['Arrival at Pickup - Time'].astype('datetime64')\n",
    "Combine_Train_Test['Pickup - Time'] = Combine_Train_Test['Pickup - Time'].astype('datetime64')"
   ]
  },
  {
   "cell_type": "code",
   "execution_count": null,
   "metadata": {},
   "outputs": [],
   "source": [
    "#### Get Hour and Minute from Times"
   ]
  },
  {
   "cell_type": "code",
   "execution_count": null,
   "metadata": {},
   "outputs": [],
   "source": [
    "Combine_Train_Test['Placement_Hour'] = Combine_Train_Test['Placement - Time'].dt.hour\n",
    "Combine_Train_Test['Placement_Minute'] = Combine_Train_Test['Placement - Time'].dt.minute\n",
    "Combine_Train_Test['Confirmation_Hour'] = Combine_Train_Test['Confirmation - Time'].dt.hour\n",
    "Combine_Train_Test['Confirmation_Minute'] = Combine_Train_Test['Confirmation - Time'].dt.minute\n",
    "Combine_Train_Test['Arrival_Hour'] = Combine_Train_Test['Arrival at Pickup - Time'].dt.hour\n",
    "Combine_Train_Test['Arrival_Minute'] = Combine_Train_Test['Arrival at Pickup - Time'].dt.minute\n",
    "Combine_Train_Test['Pickup_Hour'] = Combine_Train_Test['Pickup - Time'].dt.hour\n",
    "Combine_Train_Test['Pickup_Minute'] = Combine_Train_Test['Pickup - Time'].dt.minute"
   ]
  },
  {
   "cell_type": "code",
   "execution_count": null,
   "metadata": {},
   "outputs": [],
   "source": [
    "### Additions and Subtractions of time"
   ]
  },
  {
   "cell_type": "code",
   "execution_count": null,
   "metadata": {},
   "outputs": [],
   "source": [
    "Combine_Train_Test['process_time_hour'] = Combine_Train_Test['Confirmation - Time'].dt.hour - Combine_Train_Test['Placement - Time'].dt.hour\n",
    "Combine_Train_Test['process_time_minute'] = Combine_Train_Test['Confirmation - Time'].dt.minute - Combine_Train_Test['Placement - Time'].dt.minute\n",
    "\n",
    "Combine_Train_Test['cust_wait1_time_hour'] = Combine_Train_Test['Arrival at Pickup - Time'].dt.hour - Combine_Train_Test['Placement - Time'].dt.hour\n",
    "Combine_Train_Test['cust_wait1_time_minute'] = Combine_Train_Test['Arrival at Pickup - Time'].dt.minute - Combine_Train_Test['Placement - Time'].dt.minute\n",
    "\n",
    "Combine_Train_Test['cust_wait2_time_hour'] = Combine_Train_Test['Arrival at Pickup - Time'].dt.hour - Combine_Train_Test['Confirmation - Time'].dt.hour\n",
    "Combine_Train_Test['cust_wait2_time_minute'] = Combine_Train_Test['Arrival at Pickup - Time'].dt.minute - Combine_Train_Test['Confirmation - Time'].dt.minute\n",
    "\n",
    "Combine_Train_Test['standby_hoours'] = Combine_Train_Test['Pickup - Time'].dt.hour - Combine_Train_Test['Arrival at Pickup - Time'].dt.hour\n",
    "Combine_Train_Test['standby_minutes'] = Combine_Train_Test['Pickup - Time'].dt.minute - Combine_Train_Test['Arrival at Pickup - Time'].dt.minute\n",
    "\n",
    "Combine_Train_Test['cust_wait3_time_hour'] = Combine_Train_Test['Pickup - Time'].dt.hour - Combine_Train_Test['Confirmation - Time'].dt.hour\n",
    "Combine_Train_Test['cust_wait3_time_minute'] = Combine_Train_Test['Pickup - Time'].dt.minute - Combine_Train_Test['Confirmation - Time'].dt.minute\n",
    "\n",
    "Combine_Train_Test['cust_wait4_time_hour'] = Combine_Train_Test['Pickup - Time'].dt.hour - Combine_Train_Test['Placement - Time'].dt.hour\n",
    "Combine_Train_Test['cust_wait4_time_minute'] = Combine_Train_Test['Pickup - Time'].dt.minute - Combine_Train_Test['Placement - Time'].dt.minute\n",
    "\n",
    "Combine_Train_Test = Combine_Train_Test.drop(['Placement - Time','Confirmation - Time','Arrival at Pickup - Time','Pickup - Time'],axis = 1)"
   ]
  },
  {
   "cell_type": "code",
   "execution_count": null,
   "metadata": {},
   "outputs": [],
   "source": [
    "#### Get Time of Day from Hours"
   ]
  },
  {
   "cell_type": "code",
   "execution_count": null,
   "metadata": {},
   "outputs": [],
   "source": [
    "def get_part_hr(hour):\n",
    "    if (hour > 4) and (hour <= 8):\n",
    "        return 'Early Morning'\n",
    "    elif (hour > 8) and (hour < 12 ):\n",
    "        return 'Morning'\n",
    "    elif (hour >= 12) and (hour <= 16):\n",
    "        return'Noon'\n",
    "    elif (hour > 16) and (hour <= 20):\n",
    "        return 'Evening'\n",
    "    elif (hour > 20) and (hour <= 22):\n",
    "        return'Night'\n",
    "    else:\n",
    "        return'Late Night'"
   ]
  },
  {
   "cell_type": "code",
   "execution_count": null,
   "metadata": {},
   "outputs": [],
   "source": [
    "Combine_Train_Test['Placement_Time_Day'] = Combine_Train_Test['Placement_Hour'].apply(get_part_hr)\n",
    "Combine_Train_Test['Confirmation_Time_Day'] = Combine_Train_Test['Confirmation_Hour'].apply(get_part_hr)\n",
    "Combine_Train_Test['Arrival_Time_Day'] = Combine_Train_Test['Arrival_Hour'].apply(get_part_hr)\n",
    "Combine_Train_Test['Pickup_Time_Day'] = Combine_Train_Test['Pickup_Hour'].apply(get_part_hr)"
   ]
  },
  {
   "cell_type": "code",
   "execution_count": null,
   "metadata": {},
   "outputs": [],
   "source": [
    "#### Get Weekend or Weekday"
   ]
  },
  {
   "cell_type": "code",
   "execution_count": null,
   "metadata": {},
   "outputs": [],
   "source": [
    "Combine_Train_Test['Actual Day of Placement'] = np.where(Combine_Train_Test['Placement - Weekday (Mo = 1)'] < 6,'Weekday','Weekend')\n",
    "Combine_Train_Test['Actual Day of Confirmation'] = np.where(Combine_Train_Test['Confirmation - Weekday (Mo = 1)'] < 6,'Weekday','Weekend')\n",
    "Combine_Train_Test['Actual Day of Arrival'] = np.where(Combine_Train_Test['Arrival at Pickup - Weekday (Mo = 1)'] < 6,'Weekday','Weekend')\n",
    "Combine_Train_Test['Actual Day of Pickup'] = np.where(Combine_Train_Test['Pickup - Weekday (Mo = 1)'] < 6,'Weekday','Weekend')"
   ]
  },
  {
   "cell_type": "code",
   "execution_count": null,
   "metadata": {},
   "outputs": [],
   "source": [
    "#### Get Times of Month"
   ]
  },
  {
   "cell_type": "code",
   "execution_count": null,
   "metadata": {},
   "outputs": [],
   "source": [
    "Place_Day_Month = []\n",
    "\n",
    "# Using a for loop to populate the list\n",
    "for Each_Day in Combine_Train_Test['Placement - Day of Month']:\n",
    "    if (Each_Day > 0 and Each_Day <=7):\n",
    "        Place_Day_Month.append('1st Week')        \n",
    "    elif (Each_Day > 7 and Each_Day <=15):\n",
    "        Place_Day_Month.append('2nd Week')\n",
    "    elif (Each_Day > 15 and Each_Day <=23):\n",
    "        Place_Day_Month.append('3rd Week')\n",
    "    else:\n",
    "        Place_Day_Month.append('4th Week')\n",
    "        \n",
    "Combine_Train_Test['Placement_Day into Weeks'] = Place_Day_Month"
   ]
  },
  {
   "cell_type": "code",
   "execution_count": null,
   "metadata": {},
   "outputs": [],
   "source": [
    "Confirm_Day_Month = []\n",
    "\n",
    "# Using a for loop to populate the list\n",
    "for Each_Day in Combine_Train_Test['Confirmation - Day of Month']:\n",
    "    if (Each_Day > 0 and Each_Day <=7):\n",
    "        Confirm_Day_Month.append('1st Week')        \n",
    "    elif (Each_Day > 7 and Each_Day <=15):\n",
    "        Confirm_Day_Month.append('2nd Week')\n",
    "    elif (Each_Day > 15 and Each_Day <=23):\n",
    "        Confirm_Day_Month.append('3rd Week')\n",
    "    else:\n",
    "        Confirm_Day_Month.append('4th Week')\n",
    "\n",
    "Combine_Train_Test['Confirmation_Day into Weeks'] = Confirm_Day_Month"
   ]
  },
  {
   "cell_type": "code",
   "execution_count": null,
   "metadata": {},
   "outputs": [],
   "source": [
    "Arrival_Pickup_Day_Month = []\n",
    "\n",
    "# Using a for loop to populate the list\n",
    "for Each_Day in Combine_Train_Test['Arrival at Pickup - Day of Month']:\n",
    "    if (Each_Day > 0 and Each_Day <=7):\n",
    "        Arrival_Pickup_Day_Month.append('1st Week')        \n",
    "    elif (Each_Day > 7 and Each_Day <=15):\n",
    "        Arrival_Pickup_Day_Month.append('2nd Week')\n",
    "    elif (Each_Day > 15 and Each_Day <=23):\n",
    "        Arrival_Pickup_Day_Month.append('3rd Week')\n",
    "    else:\n",
    "        Arrival_Pickup_Day_Month.append('4th Week')\n",
    "        \n",
    "Combine_Train_Test['Arrival_Pickup_Day into Weeks'] = Arrival_Pickup_Day_Month"
   ]
  },
  {
   "cell_type": "code",
   "execution_count": null,
   "metadata": {},
   "outputs": [],
   "source": [
    "Pickup_Day_Month = []\n",
    "\n",
    "# Using a for loop to populate the list\n",
    "for Each_Day in Combine_Train_Test['Pickup - Day of Month']:\n",
    "    if (Each_Day > 0 and Each_Day <=7):\n",
    "        Pickup_Day_Month.append('1st Week')        \n",
    "    elif (Each_Day > 7 and Each_Day <=15):\n",
    "        Pickup_Day_Month.append('2nd Week')\n",
    "    elif (Each_Day > 15 and Each_Day <=23):\n",
    "        Pickup_Day_Month.append('3rd Week')\n",
    "    else:\n",
    "        Pickup_Day_Month.append('4th Week')\n",
    "        \n",
    "Combine_Train_Test['Pickup_Day into Weeks'] = Pickup_Day_Month"
   ]
  },
  {
   "cell_type": "code",
   "execution_count": null,
   "metadata": {},
   "outputs": [],
   "source": [
    "# Lat and Long Cords"
   ]
  },
  {
   "cell_type": "code",
   "execution_count": null,
   "metadata": {},
   "outputs": [],
   "source": [
    "##clustering\n",
    "kmeans = KMeans(n_clusters = 50, init ='k-means++')\n",
    "kmeans.fit(Combine_Train_Test[['Pickup Lat', 'Pickup Long']]) # Compute k-means clustering.\n",
    "Combine_Train_Test['pickup_cluster_label'] = kmeans.fit_predict(Combine_Train_Test[['Pickup Lat', 'Pickup Long']])\n",
    "centers1 = kmeans.cluster_centers_ # Coordinates of cluster centers.\n",
    "labels1 = kmeans.predict(Combine_Train_Test[['Pickup Lat', 'Pickup Long']]) # Labels of each point\n",
    "Combine_Train_Test['pickup_cluster_label'] = Combine_Train_Test['pickup_cluster_label'].astype('category')"
   ]
  },
  {
   "cell_type": "code",
   "execution_count": null,
   "metadata": {},
   "outputs": [],
   "source": [
    "Combine_Train_Test.plot.scatter(x = 'Pickup Lat', y = 'Pickup Long', c=labels1, s=50, cmap='viridis')\n",
    "plt.scatter(centers1[:, 0], centers1[:, 1], c='black', s=200, alpha=0.5)\n",
    "\n",
    "plt.show()"
   ]
  },
  {
   "cell_type": "code",
   "execution_count": null,
   "metadata": {},
   "outputs": [],
   "source": [
    "##clustering\n",
    "kmeans = KMeans(n_clusters = 50, init ='k-means++')\n",
    "kmeans.fit(Combine_Train_Test[['Destination Lat', 'Destination Long']]) # Compute k-means clustering.\n",
    "Combine_Train_Test['Destination_cluster_label'] = kmeans.fit_predict(Combine_Train_Test[['Destination Lat', 'Destination Long']])\n",
    "centers1 = kmeans.cluster_centers_ # Coordinates of cluster centers.\n",
    "labels1 = kmeans.predict(Combine_Train_Test[['Destination Lat', 'Destination Long']]) # Labels of each point\n",
    "Combine_Train_Test['Destination_cluster_label'] = Combine_Train_Test['Destination_cluster_label'].astype('category')"
   ]
  },
  {
   "cell_type": "code",
   "execution_count": null,
   "metadata": {},
   "outputs": [],
   "source": [
    "Combine_Train_Test.plot.scatter(x = 'Destination Lat', y = 'Destination Long', c=labels1, s=50, cmap='viridis')\n",
    "plt.scatter(centers1[:, 0], centers1[:, 1], c='black', s=200, alpha=0.5)\n",
    "\n",
    "plt.show()"
   ]
  },
  {
   "cell_type": "code",
   "execution_count": null,
   "metadata": {},
   "outputs": [],
   "source": [
    "Combine_Train_Test = Combine_Train_Test.drop(['Pickup Lat','Pickup Long','Destination Lat','Destination Long'],axis = 1)"
   ]
  },
  {
   "cell_type": "code",
   "execution_count": null,
   "metadata": {},
   "outputs": [],
   "source": [
    "# Temperature\n",
    "# Precipitation in millimeters"
   ]
  },
  {
   "cell_type": "code",
   "execution_count": null,
   "metadata": {},
   "outputs": [],
   "source": [
    "# Combine_Train_Test = Combine_Train_Test.drop(['Temperature','Precipitation in millimeters'],axis = 1)\n",
    "Combine_Train_Test['Temperature'].fillna((Combine_Train_Test['Temperature'].mean()), inplace=True)\n",
    "Combine_Train_Test['Precipitation in millimeters'].fillna((Combine_Train_Test['Precipitation in millimeters'].mean()), inplace=True)"
   ]
  },
  {
   "cell_type": "code",
   "execution_count": null,
   "metadata": {},
   "outputs": [],
   "source": [
    "#Creating New Feature = Grouping Temperature into Average High, Average Low and Normal\n",
    "Temperature_Deg = []\n",
    "\n",
    "# Using a for loop to populate the list\n",
    "for Degree in Combine_Train_Test['Temperature']:\n",
    "    if (Degree >= 15) and (Degree <= 27):\n",
    "        Temperature_Deg.append('Average High Temperature')\n",
    "    elif (Degree >= 12) and (Degree <= 22 ):\n",
    "        Temperature_Deg.append('Average Low Temperature')\n",
    "    else:\n",
    "        Temperature_Deg.append('Normal Temperature')\n",
    "Combine_Train_Test['Temperature Condition'] = Temperature_Deg"
   ]
  },
  {
   "cell_type": "code",
   "execution_count": null,
   "metadata": {},
   "outputs": [],
   "source": [
    "Combine_Train_Test.columns"
   ]
  },
  {
   "cell_type": "code",
   "execution_count": null,
   "metadata": {},
   "outputs": [],
   "source": [
    "Combine_Train_Test = pd.get_dummies(Combine_Train_Test)"
   ]
  },
  {
   "cell_type": "code",
   "execution_count": null,
   "metadata": {},
   "outputs": [],
   "source": [
    "sc = StandardScaler()\n",
    "Combine_Train_Test = sc.fit_transform(Combine_Train_Test)"
   ]
  },
  {
   "cell_type": "code",
   "execution_count": null,
   "metadata": {},
   "outputs": [],
   "source": [
    "rr = Ridge(alpha=0.01)\n",
    "# rr = Lasso(alpha=0.01, max_iter=10e5)\n",
    "rr.fit(pd.DataFrame(Combine_Train_Test).iloc[:21201], Y['Time from Pickup to Arrival'].values) \n",
    "y_pred_train_rr= rr.predict(pd.DataFrame(Combine_Train_Test).iloc[21201:])"
   ]
  },
  {
   "cell_type": "code",
   "execution_count": null,
   "metadata": {},
   "outputs": [],
   "source": [
    "results = pd.DataFrame()\n",
    "results['Order_No'] = Test['Order No']\n",
    "results['Time from Pickup to Arrival'] = y_pred_train_rr\n",
    "results = results.set_index('Order_No')\n",
    "results.head()"
   ]
  },
  {
   "cell_type": "code",
   "execution_count": null,
   "metadata": {},
   "outputs": [],
   "source": [
    "results.to_csv('submission.csv')"
   ]
  }
 ],
 "metadata": {
  "kernelspec": {
   "display_name": "Python 3",
   "language": "python",
   "name": "python3"
  },
  "language_info": {
   "codemirror_mode": {
    "name": "ipython",
    "version": 3
   },
   "file_extension": ".py",
   "mimetype": "text/x-python",
   "name": "python",
   "nbconvert_exporter": "python",
   "pygments_lexer": "ipython3",
   "version": "3.7.3"
  }
 },
 "nbformat": 4,
 "nbformat_minor": 4
}
